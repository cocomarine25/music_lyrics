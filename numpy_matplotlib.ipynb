{
  "nbformat": 4,
  "nbformat_minor": 0,
  "metadata": {
    "kernelspec": {
      "display_name": "Python 3",
      "language": "python",
      "name": "python3"
    },
    "language_info": {
      "codemirror_mode": {
        "name": "ipython",
        "version": 3
      },
      "file_extension": ".py",
      "mimetype": "text/x-python",
      "name": "python",
      "nbconvert_exporter": "python",
      "pygments_lexer": "ipython3",
      "version": "3.7.1"
    },
    "colab": {
      "name": "numpy_matplotlib.ipynb",
      "provenance": [],
      "include_colab_link": true
    }
  },
  "cells": [
    {
      "cell_type": "markdown",
      "metadata": {
        "id": "view-in-github",
        "colab_type": "text"
      },
      "source": [
        "<a href=\"https://colab.research.google.com/github/cocomarine25/music_lyrics/blob/main/numpy_matplotlib.ipynb\" target=\"_parent\"><img src=\"https://colab.research.google.com/assets/colab-badge.svg\" alt=\"Open In Colab\"/></a>"
      ]
    },
    {
      "cell_type": "code",
      "source": [
        "def analyze_lyrics(lyrics):\n",
        "    # 가사를 단어로 분리\n",
        "    words = lyrics.split()\n",
        "\n",
        "    # 결과 출력\n",
        "    print(\"분리된 단어 목록:\")\n",
        "    print(words)\n",
        "\n",
        "    print(\"\\n총 단어 수:\", len(words))\n",
        "\n",
        "    return words\n",
        "\n",
        "# 사용 예시\n",
        "lyrics = input(\"분석할 가사를 입력하세요: \")\n",
        "word_list = analyze_lyrics(lyrics)\n"
      ],
      "metadata": {
        "id": "ZXS960hr5SWy",
        "colab": {
          "base_uri": "https://localhost:8080/"
        },
        "outputId": "0d240d81-b74e-4d47-aebf-d6c27f8a0e42"
      },
      "execution_count": null,
      "outputs": [
        {
          "output_type": "stream",
          "name": "stdout",
          "text": [
            "분석할 가사를 입력하세요: 어쩌다 마주친 그대 모습에 내 마음을 빼앗겨 버렸네 어쩌다 마주친 그대 두 눈이 내 마음을 사로잡아  버렸네 그대에게 할말이 있는대 왜이리 용기가 없을까 말을 하고 싶지만 자신이 없어내 가슴만 두근 두근 답답한 이 내 마음 바람 속에 날려  보내리 피어나는 꽃처럼 아름다운 그녀가 내 마음을 빼앗아 버렸네 이슬처럼 영롱한 그대 고운 두 눈이 내 마음을 사로 잡아 버렸네  그대에게 할말이 있는대 왜이리 용기가 없을까 말을 하고 싶지만 자신이 없어 내 가슴만 두근 두근 바보 바보 나는 바보인가봐 그대에게  할말이 있는대 왜이리 용기가 없을까 말을 하고 싶지만 자신이 없어 내 가슴만 두근 두근 바보 바보 나는 바보 인가봐\n",
            "분리된 단어 목록:\n",
            "['어쩌다', '마주친', '그대', '모습에', '내', '마음을', '빼앗겨', '버렸네', '어쩌다', '마주친', '그대', '두', '눈이', '내', '마음을', '사로잡아', '버렸네', '그대에게', '할말이', '있는대', '왜이리', '용기가', '없을까', '말을', '하고', '싶지만', '자신이', '없어내', '가슴만', '두근', '두근', '답답한', '이', '내', '마음', '바람', '속에', '날려', '보내리', '피어나는', '꽃처럼', '아름다운', '그녀가', '내', '마음을', '빼앗아', '버렸네', '이슬처럼', '영롱한', '그대', '고운', '두', '눈이', '내', '마음을', '사로', '잡아', '버렸네', '그대에게', '할말이', '있는대', '왜이리', '용기가', '없을까', '말을', '하고', '싶지만', '자신이', '없어', '내', '가슴만', '두근', '두근', '바보', '바보', '나는', '바보인가봐', '그대에게', '할말이', '있는대', '왜이리', '용기가', '없을까', '말을', '하고', '싶지만', '자신이', '없어', '내', '가슴만', '두근', '두근', '바보', '바보', '나는', '바보', '인가봐']\n",
            "\n",
            "총 단어 수: 97\n"
          ]
        }
      ]
    }
  ]
}